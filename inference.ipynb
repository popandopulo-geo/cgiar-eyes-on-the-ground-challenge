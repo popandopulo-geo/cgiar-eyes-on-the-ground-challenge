{
 "cells": [
  {
   "cell_type": "code",
   "execution_count": 3,
   "id": "4a537451-6a8f-47ae-aec9-47efe875a399",
   "metadata": {},
   "outputs": [],
   "source": [
    "import torch \n",
    "import torch.nn as nn\n",
    "from torch.utils.data import DataLoader\n",
    "import timm\n",
    "\n",
    "import numpy as np\n",
    "import pandas as pd\n",
    "\n",
    "import gc\n",
    "import os\n",
    "from glob import glob \n",
    "from tqdm.notebook import tqdm\n",
    "\n",
    "from sklearn.preprocessing import OneHotEncoder\n",
    "\n",
    "from src.dataset import DamageDataset, OrdinalBinDamageDataset, BinaryDamageDataset\n",
    "from src.agents import EmbedingsAgent, InferenceAgent\n",
    "from src.utils import estimate_maximum_batch_size, vector2prediction"
   ]
  },
  {
   "cell_type": "markdown",
   "id": "59778804-6e43-40c9-9345-526454582c8d",
   "metadata": {},
   "source": [
    "# Networks"
   ]
  },
  {
   "cell_type": "markdown",
   "id": "d112474c-0ee8-4ded-b2a3-c2ceb7b3f31a",
   "metadata": {
    "jp-MarkdownHeadingCollapsed": true
   },
   "source": [
    "## OLD"
   ]
  },
  {
   "cell_type": "markdown",
   "id": "c4f7c0c5-4c81-4e1b-8806-844bd48178b7",
   "metadata": {
    "jp-MarkdownHeadingCollapsed": true
   },
   "source": [
    "### stellar-frost-8"
   ]
  },
  {
   "cell_type": "code",
   "execution_count": 2,
   "id": "8ae58909-4aa3-46e6-91e4-308ecf4fe6e1",
   "metadata": {},
   "outputs": [
    {
     "name": "stdout",
     "output_type": "stream",
     "text": [
      "cuda\n",
      "Weights are loaded from exp/stellar-frost-8/BEST.PTH\n"
     ]
    }
   ],
   "source": [
    "net = timm.create_model(\"efficientnet_b0\", pretrained=True, num_classes=11)\n",
    "device = torch.device(\"cuda\" if torch.cuda.is_available() else \"cpu\")\n",
    "print(device)\n",
    "\n",
    "agent = InferenceAgent(net, device)\n",
    "agent.load_weights('exp/stellar-frost-8/BEST.PTH')"
   ]
  },
  {
   "cell_type": "code",
   "execution_count": 3,
   "id": "d8d65065-ce77-4900-8fbc-0dea9c6c5b67",
   "metadata": {},
   "outputs": [
    {
     "name": "stdout",
     "output_type": "stream",
     "text": [
      "batch_size : 128\n"
     ]
    }
   ],
   "source": [
    "shape = (3, 512, 512)\n",
    "batch_size = estimate_maximum_batch_size(agent.model, device, shape)\n",
    "print('batch_size :', batch_size)\n",
    "\n",
    "root = 'data/test'\n",
    "split = 'data/splits/test.csv'\n",
    "metadata = 'data/test_meta.csv'\n",
    "\n",
    "dataset = DamageDataset(root, split, metadata)\n",
    "loader = DataLoader(dataset, batch_size=batch_size, num_workers=4)"
   ]
  },
  {
   "cell_type": "code",
   "execution_count": 4,
   "id": "6047b64b-c17b-4368-9d17-129817c966c9",
   "metadata": {},
   "outputs": [],
   "source": [
    "sub = pd.DataFrame(columns=['ID', 'extent'])\n",
    "sub.set_index('ID', inplace=True)"
   ]
  },
  {
   "cell_type": "code",
   "execution_count": 5,
   "id": "bc93c117-2f1a-4d67-a07e-2f80b75eeb98",
   "metadata": {},
   "outputs": [
    {
     "data": {
      "application/vnd.jupyter.widget-view+json": {
       "model_id": "dbd113049286447aba02d40d315a0ffa",
       "version_major": 2,
       "version_minor": 0
      },
      "text/plain": [
       "  0%|          | 0/68 [00:00<?, ?it/s]"
      ]
     },
     "metadata": {},
     "output_type": "display_data"
    }
   ],
   "source": [
    "for idx, features, _ in tqdm(loader):\n",
    "    output = agent.predict(features)\n",
    "    probabilities = nn.Softmax(dim=1)(output)\n",
    "    prediction = torch.argmax(probabilities, dim=1)\n",
    "    prediction = prediction.cpu().numpy()\n",
    "    \n",
    "    df = pd.DataFrame(data={'ID' : idx, 'extent' : prediction})\n",
    "    df.set_index('ID', inplace=True)\n",
    "    \n",
    "    sub = pd.concat([sub, df])"
   ]
  },
  {
   "cell_type": "code",
   "execution_count": 6,
   "id": "29f31dce-9873-4e10-8682-f3cfb26e4581",
   "metadata": {},
   "outputs": [],
   "source": [
    "sub.extent *= 10"
   ]
  },
  {
   "cell_type": "code",
   "execution_count": 7,
   "id": "8d75cae0-82c0-4be4-9923-cdc3ab375ab5",
   "metadata": {},
   "outputs": [],
   "source": [
    "sub.to_csv('data/submission.csv', index='ID')"
   ]
  },
  {
   "cell_type": "code",
   "execution_count": 9,
   "id": "db874643-fb62-4379-8199-6b07237e5a9c",
   "metadata": {},
   "outputs": [
    {
     "data": {
      "text/plain": [
       "array([0, 10, 20, 30, 40, 50, 60, 70, 80, 90, 100], dtype=object)"
      ]
     },
     "execution_count": 9,
     "metadata": {},
     "output_type": "execute_result"
    }
   ],
   "source": [
    "np.unique(sub.extent)"
   ]
  },
  {
   "cell_type": "markdown",
   "id": "65111499-a08c-48fb-813c-5b45541d127f",
   "metadata": {
    "jp-MarkdownHeadingCollapsed": true
   },
   "source": [
    "### polished-music-16 / dainty-frog-17"
   ]
  },
  {
   "cell_type": "code",
   "execution_count": 13,
   "id": "2d8435fe-1db2-4cce-9418-d8bc02c774d0",
   "metadata": {},
   "outputs": [
    {
     "name": "stdout",
     "output_type": "stream",
     "text": [
      "cuda\n",
      "Weights are loaded from exp/dainty-frog-17/BEST.PTH\n"
     ]
    }
   ],
   "source": [
    "net = timm.create_model(\"efficientnet_b0\", pretrained=True, num_classes=10)\n",
    "device = torch.device(\"cuda\" if torch.cuda.is_available() else \"cpu\")\n",
    "print(device)\n",
    "\n",
    "agent = InferenceAgent(net, device)\n",
    "agent.load_weights('exp/dainty-frog-17/BEST.PTH')"
   ]
  },
  {
   "cell_type": "code",
   "execution_count": 14,
   "id": "3e505cea-cd5a-4922-81b5-4f807389e96f",
   "metadata": {},
   "outputs": [
    {
     "name": "stdout",
     "output_type": "stream",
     "text": [
      "batch_size : 128\n"
     ]
    }
   ],
   "source": [
    "shape = (3, 512, 512)\n",
    "batch_size = estimate_maximum_batch_size(agent.model, device, shape)\n",
    "print('batch_size :', batch_size)\n",
    "\n",
    "root = 'data/test'\n",
    "split = 'data/splits/test.csv'\n",
    "metadata = 'data/test_meta.csv'\n",
    "\n",
    "dataset = DamageDataset(root, split, metadata)\n",
    "loader = DataLoader(dataset, batch_size=batch_size, num_workers=4)"
   ]
  },
  {
   "cell_type": "code",
   "execution_count": 15,
   "id": "e583387a-c1c1-4855-8ff2-6a3cbc818ecb",
   "metadata": {},
   "outputs": [],
   "source": [
    "sub = pd.DataFrame(columns=['ID', 'extent'])\n",
    "sub.set_index('ID', inplace=True)"
   ]
  },
  {
   "cell_type": "code",
   "execution_count": 16,
   "id": "58b99553-9fe1-4a17-91aa-eeffd62e65ef",
   "metadata": {},
   "outputs": [
    {
     "data": {
      "application/vnd.jupyter.widget-view+json": {
       "model_id": "753c04eb300443309f016232c0f8f643",
       "version_major": 2,
       "version_minor": 0
      },
      "text/plain": [
       "  0%|          | 0/68 [00:00<?, ?it/s]"
      ]
     },
     "metadata": {},
     "output_type": "display_data"
    }
   ],
   "source": [
    "for idx, features, _ in tqdm(loader):\n",
    "    output = agent.predict(features)\n",
    "    probabilities = nn.Softmax(dim=1)(output)\n",
    "    prediction = torch.argmax(probabilities, dim=1)\n",
    "    prediction = prediction.cpu().numpy() + 1\n",
    "    \n",
    "    df = pd.DataFrame(data={'ID' : idx, 'extent' : prediction})\n",
    "    df.set_index('ID', inplace=True)\n",
    "    \n",
    "    sub = pd.concat([sub, df])"
   ]
  },
  {
   "cell_type": "code",
   "execution_count": 17,
   "id": "e7179552-ff3a-4aef-90dd-39e50103dfc0",
   "metadata": {},
   "outputs": [],
   "source": [
    "meta = pd.read_csv(metadata, index_col='ID')\n",
    "subset = meta[np.logical_or(meta.damage != 'DR', np.logical_not(meta.growth_stage.isin(['F', 'M', 'V'])))]\n",
    "sub[sub.index.isin(subset.index)] = 0"
   ]
  },
  {
   "cell_type": "code",
   "execution_count": 18,
   "id": "fa5fc9d9-0597-4b3f-87d2-5ce9c3091da7",
   "metadata": {},
   "outputs": [],
   "source": [
    "sub.extent *= 10"
   ]
  },
  {
   "cell_type": "code",
   "execution_count": 19,
   "id": "92824cef-9998-4444-8dad-a875e6f98f54",
   "metadata": {},
   "outputs": [],
   "source": [
    "sub.to_csv('data/submission.csv', index='ID')"
   ]
  },
  {
   "cell_type": "markdown",
   "id": "398136d4-4fe2-4063-96e5-ab14b4038032",
   "metadata": {},
   "source": [
    "### likely-lake-25"
   ]
  },
  {
   "cell_type": "code",
   "execution_count": 2,
   "id": "3887dccb-5c23-43d6-97de-1b14d139ab67",
   "metadata": {},
   "outputs": [
    {
     "name": "stdout",
     "output_type": "stream",
     "text": [
      "cuda\n",
      "Weights are loaded from exp/likely-lake-25/BEST.PTH\n"
     ]
    }
   ],
   "source": [
    "net = timm.create_model(\"efficientnet_b0\", pretrained=True, num_classes=9)\n",
    "device = torch.device(\"cuda\" if torch.cuda.is_available() else \"cpu\")\n",
    "print(device)\n",
    "\n",
    "agent = InferenceAgent(net, device)\n",
    "agent.load_weights('exp/likely-lake-25/BEST.PTH')"
   ]
  },
  {
   "cell_type": "code",
   "execution_count": 3,
   "id": "b2746af2-9c92-406a-b28f-e45f34b09de0",
   "metadata": {},
   "outputs": [
    {
     "name": "stdout",
     "output_type": "stream",
     "text": [
      "batch_size : 128\n"
     ]
    }
   ],
   "source": [
    "shape = (3, 512, 512)\n",
    "batch_size = estimate_maximum_batch_size(agent.model, device, shape)\n",
    "print('batch_size :', batch_size)\n",
    "\n",
    "root = 'data/test'\n",
    "split = 'data/splits/test.csv'\n",
    "metadata = 'data/test_meta.csv'\n",
    "\n",
    "dataset = OrdinalBinDamageDataset(root, split, metadata)\n",
    "loader = DataLoader(dataset, batch_size=batch_size, num_workers=4)"
   ]
  },
  {
   "cell_type": "code",
   "execution_count": 4,
   "id": "147e3a81-21b3-4744-bc24-eeb9f2e4678f",
   "metadata": {},
   "outputs": [],
   "source": [
    "sub = pd.DataFrame(columns=['ID', 'extent'])\n",
    "sub.set_index('ID', inplace=True)"
   ]
  },
  {
   "cell_type": "code",
   "execution_count": 5,
   "id": "043408de-314e-4e13-8a36-ff8ea446466f",
   "metadata": {},
   "outputs": [
    {
     "data": {
      "application/vnd.jupyter.widget-view+json": {
       "model_id": "3641b20dc48c4f7299c636dfb92421a7",
       "version_major": 2,
       "version_minor": 0
      },
      "text/plain": [
       "  0%|          | 0/68 [00:00<?, ?it/s]"
      ]
     },
     "metadata": {},
     "output_type": "display_data"
    }
   ],
   "source": [
    "for idx, features, target in tqdm(loader):\n",
    "    output = agent.predict(features)\n",
    "    output = nn.Sigmoid()(output)\n",
    "    prediction = output > 0.5\n",
    "    prediction = prediction.to(torch.int64).cpu()\n",
    "    prediction = torch.tensor([torch.where(row == 1)[0].max() + 1 if row.sum() > 0 else 0 for row in prediction])\n",
    "    prediction += 1\n",
    "    \n",
    "    df = pd.DataFrame(data={'ID' : idx, 'extent' : prediction})\n",
    "    df.set_index('ID', inplace=True)\n",
    "    \n",
    "    sub = pd.concat([sub, df])"
   ]
  },
  {
   "cell_type": "code",
   "execution_count": 6,
   "id": "867eb4ad-75a0-4ba1-8a93-4c9ab1c6ee88",
   "metadata": {},
   "outputs": [],
   "source": [
    "meta = pd.read_csv(metadata, index_col='ID')\n",
    "subset = meta[np.logical_or(meta.damage != 'DR', np.logical_not(meta.growth_stage.isin(['F', 'M', 'V'])))]\n",
    "sub[sub.index.isin(subset.index)] = 0"
   ]
  },
  {
   "cell_type": "code",
   "execution_count": 7,
   "id": "6165dc15-4133-4d1a-a0e7-03fc3c0b9fcf",
   "metadata": {},
   "outputs": [],
   "source": [
    "sub.extent *= 10"
   ]
  },
  {
   "cell_type": "code",
   "execution_count": 8,
   "id": "e5db909f-4444-41e0-8be4-3192b0efb76a",
   "metadata": {},
   "outputs": [],
   "source": [
    "sub.to_csv('data/submission.csv', index='ID')"
   ]
  },
  {
   "cell_type": "markdown",
   "id": "e7f7dd84-0644-4c50-84aa-5c12afc26cba",
   "metadata": {
    "jp-MarkdownHeadingCollapsed": true
   },
   "source": [
    "### daily-elevator-38"
   ]
  },
  {
   "cell_type": "code",
   "execution_count": 2,
   "id": "910966b4-c4b9-4ae5-afc1-848363369b11",
   "metadata": {},
   "outputs": [
    {
     "name": "stdout",
     "output_type": "stream",
     "text": [
      "cuda\n",
      "Weights are loaded from exp/daily-elevator-38/BEST.PTH\n"
     ]
    }
   ],
   "source": [
    "net = timm.create_model(\"efficientnet_b0\", pretrained=True, num_classes=9)\n",
    "device = torch.device(\"cuda\" if torch.cuda.is_available() else \"cpu\")\n",
    "print(device)\n",
    "\n",
    "agent = InferenceAgent(net, device)\n",
    "agent.load_weights('exp/daily-elevator-38/BEST.PTH')"
   ]
  },
  {
   "cell_type": "code",
   "execution_count": 3,
   "id": "cd218627-be43-439e-9b40-e69e72d94aea",
   "metadata": {},
   "outputs": [
    {
     "name": "stdout",
     "output_type": "stream",
     "text": [
      "batch_size : 32\n"
     ]
    }
   ],
   "source": [
    "shape = (3, 512, 512)\n",
    "batch_size = estimate_maximum_batch_size(agent.model, device, shape)\n",
    "print('batch_size :', batch_size)\n",
    "\n",
    "root = 'data/test'\n",
    "split = 'data/splits/test.csv'\n",
    "metadata = 'data/test_meta.csv'\n",
    "\n",
    "dataset = OrdinalBinDamageDataset(root, split, metadata)\n",
    "loader = DataLoader(dataset, batch_size=batch_size, num_workers=2)"
   ]
  },
  {
   "cell_type": "code",
   "execution_count": 4,
   "id": "0f347b04-affd-4b48-ac63-2a9d93409cb0",
   "metadata": {},
   "outputs": [],
   "source": [
    "sub = pd.DataFrame(columns=['ID', 'extent'])\n",
    "sub.set_index('ID', inplace=True)"
   ]
  },
  {
   "cell_type": "code",
   "execution_count": 5,
   "id": "1eaf4be4-d765-490c-b322-e54fdbf68e26",
   "metadata": {},
   "outputs": [
    {
     "data": {
      "application/vnd.jupyter.widget-view+json": {
       "model_id": "afe92182397a4be9a4a4e97fc43c9897",
       "version_major": 2,
       "version_minor": 0
      },
      "text/plain": [
       "  0%|          | 0/271 [00:00<?, ?it/s]"
      ]
     },
     "metadata": {},
     "output_type": "display_data"
    }
   ],
   "source": [
    "for idx, features, target in tqdm(loader):\n",
    "    output = agent.predict(features)\n",
    "    output = nn.Sigmoid()(output)\n",
    "    prediction = output > 0.65\n",
    "    prediction = prediction.to(torch.int64).cpu()\n",
    "    prediction = torch.tensor([torch.where(row == 1)[0].max() + 1 if row.sum() > 0 else 0 for row in prediction])\n",
    "    prediction += 1\n",
    "    \n",
    "    df = pd.DataFrame(data={'ID' : idx, 'extent' : prediction})\n",
    "    df.set_index('ID', inplace=True)\n",
    "    \n",
    "    sub = pd.concat([sub, df])"
   ]
  },
  {
   "cell_type": "code",
   "execution_count": 6,
   "id": "5198ec25-8a73-4390-ada4-55ff964c4484",
   "metadata": {},
   "outputs": [],
   "source": [
    "meta = pd.read_csv(metadata, index_col='ID')\n",
    "subset = meta[np.logical_or(meta.damage != 'DR', np.logical_not(meta.growth_stage.isin(['F', 'M', 'V'])))]\n",
    "sub[sub.index.isin(subset.index)] = 0\n",
    "\n",
    "sub.extent *= 10"
   ]
  },
  {
   "cell_type": "code",
   "execution_count": 7,
   "id": "de8c4145-1921-4fda-a89e-bbeee5fbc09c",
   "metadata": {},
   "outputs": [],
   "source": [
    "sub.to_csv('data/submission.csv', index='ID')"
   ]
  },
  {
   "cell_type": "markdown",
   "id": "19ad4c71-a00f-4004-a4a3-201d8754901f",
   "metadata": {
    "jp-MarkdownHeadingCollapsed": true
   },
   "source": [
    "### leafy-shadow-36"
   ]
  },
  {
   "cell_type": "code",
   "execution_count": 8,
   "id": "43f92584-e099-40c5-ae64-010455e5866b",
   "metadata": {},
   "outputs": [
    {
     "name": "stdout",
     "output_type": "stream",
     "text": [
      "cuda\n",
      "Weights are loaded from exp/leafy-shadow-36/BEST.PTH\n"
     ]
    }
   ],
   "source": [
    "net = timm.create_model(\"efficientnet_b0\", pretrained=True, num_classes=9)\n",
    "device = torch.device(\"cuda\" if torch.cuda.is_available() else \"cpu\")\n",
    "print(device)\n",
    "\n",
    "agent = InferenceAgent(net, device)\n",
    "agent.load_weights('exp/leafy-shadow-36/BEST.PTH')"
   ]
  },
  {
   "cell_type": "code",
   "execution_count": 9,
   "id": "5360e978-0c2b-48ca-af4a-d098144a15cc",
   "metadata": {},
   "outputs": [
    {
     "name": "stdout",
     "output_type": "stream",
     "text": [
      "batch_size : 32\n"
     ]
    }
   ],
   "source": [
    "shape = (3, 512, 512)\n",
    "batch_size = estimate_maximum_batch_size(agent.model, device, shape)\n",
    "print('batch_size :', batch_size)\n",
    "\n",
    "root = 'data/test'\n",
    "split = 'data/splits/test.csv'\n",
    "metadata = 'data/test_meta.csv'\n",
    "\n",
    "dataset = OrdinalBinDamageDataset(root, split, metadata)\n",
    "loader = DataLoader(dataset, batch_size=batch_size, num_workers=2)"
   ]
  },
  {
   "cell_type": "code",
   "execution_count": 10,
   "id": "abd73081-08f6-4e98-8ee0-69fb9def5420",
   "metadata": {},
   "outputs": [],
   "source": [
    "sub = pd.DataFrame(columns=['ID', 'extent'])\n",
    "sub.set_index('ID', inplace=True)"
   ]
  },
  {
   "cell_type": "code",
   "execution_count": 11,
   "id": "1f462fa5-c4e8-4e00-8af2-da4e8b30ed4c",
   "metadata": {},
   "outputs": [
    {
     "data": {
      "application/vnd.jupyter.widget-view+json": {
       "model_id": "f7b4e7fb61fb4d3a907d6378b7d966cc",
       "version_major": 2,
       "version_minor": 0
      },
      "text/plain": [
       "  0%|          | 0/271 [00:00<?, ?it/s]"
      ]
     },
     "metadata": {},
     "output_type": "display_data"
    }
   ],
   "source": [
    "for idx, features, target in tqdm(loader):\n",
    "    output = agent.predict(features)\n",
    "    output = nn.Sigmoid()(output)\n",
    "    prediction = output > 0.7\n",
    "    prediction = prediction.to(torch.int64).cpu()\n",
    "    prediction = torch.tensor([torch.where(row == 1)[0].max() + 1 if row.sum() > 0 else 0 for row in prediction])\n",
    "    prediction += 1\n",
    "    \n",
    "    df = pd.DataFrame(data={'ID' : idx, 'extent' : prediction})\n",
    "    df.set_index('ID', inplace=True)\n",
    "    \n",
    "    sub = pd.concat([sub, df])"
   ]
  },
  {
   "cell_type": "code",
   "execution_count": 12,
   "id": "0e2ab1e8-de2f-4709-9700-7a6ec482836d",
   "metadata": {},
   "outputs": [],
   "source": [
    "meta = pd.read_csv(metadata, index_col='ID')\n",
    "subset = meta[np.logical_or(meta.damage != 'DR', np.logical_not(meta.growth_stage.isin(['F', 'M', 'V'])))]\n",
    "sub[sub.index.isin(subset.index)] = 0\n",
    "\n",
    "sub.extent *= 10"
   ]
  },
  {
   "cell_type": "code",
   "execution_count": 13,
   "id": "cd1bfbec-5786-45e6-9dbb-5ee427af7f40",
   "metadata": {},
   "outputs": [],
   "source": [
    "sub.to_csv('data/submission.csv', index='ID')"
   ]
  },
  {
   "cell_type": "markdown",
   "id": "930fd881-973f-4f08-93c4-5168dc72fe93",
   "metadata": {
    "jp-MarkdownHeadingCollapsed": true
   },
   "source": [
    "### worthy-lake-40"
   ]
  },
  {
   "cell_type": "code",
   "execution_count": 14,
   "id": "774de915-e73d-4fda-ab5d-59b559a6b27b",
   "metadata": {},
   "outputs": [
    {
     "name": "stdout",
     "output_type": "stream",
     "text": [
      "cuda\n",
      "Weights are loaded from exp/worthy-lake-40/BEST.PTH\n"
     ]
    }
   ],
   "source": [
    "net = timm.create_model(\"efficientnet_b0\", pretrained=True, num_classes=9)\n",
    "device = torch.device(\"cuda\" if torch.cuda.is_available() else \"cpu\")\n",
    "print(device)\n",
    "\n",
    "agent = InferenceAgent(net, device)\n",
    "agent.load_weights('exp/worthy-lake-40/BEST.PTH')"
   ]
  },
  {
   "cell_type": "code",
   "execution_count": 15,
   "id": "2afe99e9-9504-4615-8e67-3b62002d4838",
   "metadata": {},
   "outputs": [
    {
     "name": "stdout",
     "output_type": "stream",
     "text": [
      "batch_size : 32\n"
     ]
    }
   ],
   "source": [
    "shape = (3, 512, 512)\n",
    "batch_size = estimate_maximum_batch_size(agent.model, device, shape)\n",
    "print('batch_size :', batch_size)\n",
    "\n",
    "root = 'data/test'\n",
    "split = 'data/splits/test.csv'\n",
    "metadata = 'data/test_meta.csv'\n",
    "\n",
    "dataset = OrdinalBinDamageDataset(root, split, metadata)\n",
    "loader = DataLoader(dataset, batch_size=batch_size, num_workers=2)"
   ]
  },
  {
   "cell_type": "code",
   "execution_count": 16,
   "id": "52fea71b-5587-4823-86fa-d23e35d9b85e",
   "metadata": {},
   "outputs": [],
   "source": [
    "sub = pd.DataFrame(columns=['ID', 'extent'])\n",
    "sub.set_index('ID', inplace=True)"
   ]
  },
  {
   "cell_type": "code",
   "execution_count": 17,
   "id": "dbb4dc63-dfec-4b8e-8a10-552d15c8c140",
   "metadata": {},
   "outputs": [
    {
     "data": {
      "application/vnd.jupyter.widget-view+json": {
       "model_id": "c1e1f85497d040af9ffb3ce195f5a4bc",
       "version_major": 2,
       "version_minor": 0
      },
      "text/plain": [
       "  0%|          | 0/271 [00:00<?, ?it/s]"
      ]
     },
     "metadata": {},
     "output_type": "display_data"
    }
   ],
   "source": [
    "for idx, features, target in tqdm(loader):\n",
    "    output = agent.predict(features)\n",
    "    output = nn.Sigmoid()(output)\n",
    "    prediction = output > 0.7\n",
    "    prediction = prediction.to(torch.int64).cpu()\n",
    "    prediction = torch.tensor([torch.where(row == 1)[0].max() + 1 if row.sum() > 0 else 0 for row in prediction])\n",
    "    prediction += 1\n",
    "    \n",
    "    df = pd.DataFrame(data={'ID' : idx, 'extent' : prediction})\n",
    "    df.set_index('ID', inplace=True)\n",
    "    \n",
    "    sub = pd.concat([sub, df])"
   ]
  },
  {
   "cell_type": "code",
   "execution_count": 18,
   "id": "2bc46bd4-a020-4573-b077-ef68fe0ef53a",
   "metadata": {},
   "outputs": [],
   "source": [
    "meta = pd.read_csv(metadata, index_col='ID')\n",
    "subset = meta[np.logical_or(meta.damage != 'DR', np.logical_not(meta.growth_stage.isin(['F', 'M', 'V'])))]\n",
    "sub[sub.index.isin(subset.index)] = 0\n",
    "\n",
    "sub.extent *= 10"
   ]
  },
  {
   "cell_type": "code",
   "execution_count": 19,
   "id": "2c6c367c-1534-43c5-a21f-d754eac1ca31",
   "metadata": {},
   "outputs": [],
   "source": [
    "sub.to_csv('data/submission.csv', index='ID')"
   ]
  },
  {
   "cell_type": "markdown",
   "id": "f621e776-7a66-49e6-ad00-5b5c0987bde1",
   "metadata": {
    "jp-MarkdownHeadingCollapsed": true
   },
   "source": [
    "### Split over season (autumn-haze-44, misunderstood-blaze-49, leafy-shadow-36)"
   ]
  },
  {
   "cell_type": "code",
   "execution_count": 13,
   "id": "ee4a7711-8f50-4190-8379-a7482b21b5f4",
   "metadata": {},
   "outputs": [
    {
     "data": {
      "text/plain": [
       "37"
      ]
     },
     "execution_count": 13,
     "metadata": {},
     "output_type": "execute_result"
    }
   ],
   "source": [
    "device = torch.device(\"cuda\" if torch.cuda.is_available() else \"cpu\")\n",
    "\n",
    "torch.cuda.empty_cache()\n",
    "gc.collect()"
   ]
  },
  {
   "cell_type": "code",
   "execution_count": 14,
   "id": "efb3a7e9-7453-42da-ba63-d5b728c37edc",
   "metadata": {},
   "outputs": [
    {
     "name": "stdout",
     "output_type": "stream",
     "text": [
      "Weights are loaded from exp/autumn-haze-44/BEST.PTH\n",
      "Weights are loaded from exp/misunderstood-blaze-49/BEST.PTH\n",
      "Weights are loaded from exp/leafy-shadow-36/BEST.PTH\n",
      "Weights are loaded from exp/leafy-shadow-36/BEST.PTH\n"
     ]
    }
   ],
   "source": [
    "lr2020_model = timm.create_model(\"efficientnet_b0\", pretrained=True, num_classes=8)\n",
    "lr2020_agent = InferenceAgent(lr2020_model, device)\n",
    "lr2020_agent.load_weights('exp/autumn-haze-44/BEST.PTH')\n",
    "\n",
    "lr2021_model = timm.create_model(\"efficientnet_b0\", pretrained=True, num_classes=8)\n",
    "lr2021_agent = InferenceAgent(lr2021_model, device)\n",
    "lr2021_agent.load_weights('exp/misunderstood-blaze-49/BEST.PTH')\n",
    "\n",
    "sr2020_model = timm.create_model(\"efficientnet_b0\", pretrained=True, num_classes=9)\n",
    "sr2020_agent = InferenceAgent(sr2020_model, device)\n",
    "sr2020_agent.load_weights('exp/leafy-shadow-36/BEST.PTH')\n",
    "\n",
    "sr2021_model = timm.create_model(\"efficientnet_b0\", pretrained=True, num_classes=9)\n",
    "sr2021_agent = InferenceAgent(sr2021_model, device)\n",
    "sr2021_agent.load_weights('exp/leafy-shadow-36/BEST.PTH')"
   ]
  },
  {
   "cell_type": "code",
   "execution_count": 15,
   "id": "11cd08a5-f21e-4f66-8397-8254f87bbfb9",
   "metadata": {},
   "outputs": [],
   "source": [
    "agents = {\n",
    "    'LR2020' : lr2020_agent,\n",
    "    'LR2021' : lr2021_agent,\n",
    "    'SR2020' : sr2020_agent,\n",
    "    'SR2021' : sr2021_agent\n",
    "}\n",
    "\n",
    "thresholds = {\n",
    "    'LR2020' : 0.6,\n",
    "    'LR2021' : 0.45,\n",
    "    'SR2020' : 0.7,\n",
    "    'SR2021' : 0.7\n",
    "}    "
   ]
  },
  {
   "cell_type": "code",
   "execution_count": 16,
   "id": "c13c845a-e072-4520-9fee-35b3712feef2",
   "metadata": {},
   "outputs": [],
   "source": [
    "shape = (3, 512, 512)\n",
    "\n",
    "root = 'data/test'\n",
    "metadata = pd.read_csv('data/test_meta.csv', index_col='ID')"
   ]
  },
  {
   "cell_type": "code",
   "execution_count": 17,
   "id": "621e2a80-e5ef-486c-ab9f-db7627af2284",
   "metadata": {},
   "outputs": [],
   "source": [
    "prediction_df = pd.DataFrame(columns=['ID', 'extent'])\n",
    "prediction_df.set_index('ID', inplace=True)"
   ]
  },
  {
   "cell_type": "code",
   "execution_count": 18,
   "id": "4545c669-33e7-49c3-8e67-636be3ff85b2",
   "metadata": {},
   "outputs": [
    {
     "data": {
      "application/vnd.jupyter.widget-view+json": {
       "model_id": "cfb0f91084c44417bc227d4adf700665",
       "version_major": 2,
       "version_minor": 0
      },
      "text/plain": [
       "  0%|          | 0/4 [00:00<?, ?it/s]"
      ]
     },
     "metadata": {},
     "output_type": "display_data"
    },
    {
     "data": {
      "application/vnd.jupyter.widget-view+json": {
       "model_id": "5811978bd91b4ccc8325bc32adda3406",
       "version_major": 2,
       "version_minor": 0
      },
      "text/plain": [
       "  0%|          | 0/6 [00:00<?, ?it/s]"
      ]
     },
     "metadata": {},
     "output_type": "display_data"
    },
    {
     "data": {
      "application/vnd.jupyter.widget-view+json": {
       "model_id": "bcd954fc5c5549afa33b8a46cc682306",
       "version_major": 2,
       "version_minor": 0
      },
      "text/plain": [
       "  0%|          | 0/21 [00:00<?, ?it/s]"
      ]
     },
     "metadata": {},
     "output_type": "display_data"
    },
    {
     "data": {
      "application/vnd.jupyter.widget-view+json": {
       "model_id": "9c0004f8f8c247729ef0939cf76eeed1",
       "version_major": 2,
       "version_minor": 0
      },
      "text/plain": [
       "  0%|          | 0/17 [00:00<?, ?it/s]"
      ]
     },
     "metadata": {},
     "output_type": "display_data"
    },
    {
     "data": {
      "application/vnd.jupyter.widget-view+json": {
       "model_id": "228500d3d9884240b13aed3ce78a2969",
       "version_major": 2,
       "version_minor": 0
      },
      "text/plain": [
       "  0%|          | 0/26 [00:00<?, ?it/s]"
      ]
     },
     "metadata": {},
     "output_type": "display_data"
    }
   ],
   "source": [
    "for key in tqdm(agents.keys()):\n",
    "    torch.cuda.empty_cache()\n",
    "    gc.collect()\n",
    "\n",
    "    batch_size = estimate_maximum_batch_size(agents[key].model, device, shape)\n",
    "\n",
    "    split = pd.DataFrame({'ID' : metadata[metadata.season == key].index})\n",
    "    split.set_index('ID', inplace=True)\n",
    "    dataset = DamageDataset(root, split, metadata)\n",
    "    loader = DataLoader(dataset, batch_size=batch_size, num_workers=4)\n",
    "\n",
    "    prediction_df_part = pd.DataFrame(columns=['ID', 'extent'])\n",
    "    prediction_df_part.set_index('ID', inplace=True)\n",
    "\n",
    "    for idx, features, _ in tqdm(loader):\n",
    "        output = agents[key].predict(features)\n",
    "        output = nn.Sigmoid()(output)\n",
    "        prediction = output > thresholds[key]\n",
    "        prediction = prediction.to(torch.int64).cpu()\n",
    "        prediction = torch.tensor([torch.where(row == 1)[0].max() + 1 if row.sum() > 0 else 0 for row in prediction])\n",
    "        prediction += 1\n",
    "        \n",
    "        df = pd.DataFrame(data={'ID' : idx, 'extent' : prediction})\n",
    "        df.set_index('ID', inplace=True)\n",
    "        \n",
    "        prediction_df_part = pd.concat([prediction_df_part, df])\n",
    "\n",
    "    prediction_df = pd.concat([prediction_df, prediction_df_part])\n",
    "\n",
    "index = metadata[np.logical_or(metadata.damage != 'DR', np.logical_not(metadata.growth_stage.isin(['F', 'M', 'V'])))].index\n",
    "prediction_df.loc[index] = 0\n",
    "prediction_df.extent *= 10"
   ]
  },
  {
   "cell_type": "code",
   "execution_count": 19,
   "id": "23c6f334-8c90-4d76-918d-4f21dc2bfd9e",
   "metadata": {},
   "outputs": [],
   "source": [
    "prediction_df.to_csv('data/submission.csv', index='ID')"
   ]
  },
  {
   "cell_type": "markdown",
   "id": "dbba5d21-f72e-4d88-b7f7-f6d81c9e4f68",
   "metadata": {},
   "source": [
    "## NEW"
   ]
  },
  {
   "cell_type": "markdown",
   "id": "9f43095b-f151-462d-8104-b5d224aae744",
   "metadata": {},
   "source": [
    "### ZINDI-2"
   ]
  },
  {
   "cell_type": "code",
   "execution_count": 2,
   "id": "61c37a7f-8d38-4242-919a-a11fce1a6809",
   "metadata": {},
   "outputs": [
    {
     "name": "stdout",
     "output_type": "stream",
     "text": [
      "cuda\n",
      "Weights are loaded from exp/ZINDI-2/BEST.PTH\n"
     ]
    }
   ],
   "source": [
    "net = timm.create_model(\"efficientnet_b0\", pretrained=True, num_classes=10)\n",
    "device = torch.device(\"cuda\" if torch.cuda.is_available() else \"cpu\")\n",
    "print(device)\n",
    "\n",
    "agent = InferenceAgent(net, device)\n",
    "agent.load_weights('exp/ZINDI-2/BEST.PTH')"
   ]
  },
  {
   "cell_type": "code",
   "execution_count": 4,
   "id": "635d27be-d9a7-4578-8324-4aa1c5ea0377",
   "metadata": {},
   "outputs": [
    {
     "name": "stdout",
     "output_type": "stream",
     "text": [
      "batch_size : 32\n"
     ]
    }
   ],
   "source": [
    "shape = (3, 512, 512)\n",
    "batch_size = estimate_maximum_batch_size(agent.model, device, shape)\n",
    "print('batch_size :', batch_size)\n",
    "\n",
    "root = 'data/test'\n",
    "split = pd.read_csv('data/splits/test.csv', index_col='ID')\n",
    "metadata = pd.read_csv('data/test_meta.csv', index_col='ID')\n",
    "\n",
    "dataset = OrdinalBinDamageDataset(root, split, metadata)\n",
    "loader = DataLoader(dataset, batch_size=batch_size, num_workers=1)"
   ]
  },
  {
   "cell_type": "code",
   "execution_count": 5,
   "id": "2e9ec8ed-67c2-40df-9643-b96ddd34f7a0",
   "metadata": {},
   "outputs": [],
   "source": [
    "sub = pd.DataFrame(columns=['ID', 'extent'])\n",
    "sub.set_index('ID', inplace=True)"
   ]
  },
  {
   "cell_type": "code",
   "execution_count": 7,
   "id": "3ab9df1f-1e36-4a8e-9313-d251d967dcda",
   "metadata": {},
   "outputs": [
    {
     "data": {
      "application/vnd.jupyter.widget-view+json": {
       "model_id": "8ac1170cb3144e6da821bb27d99d39bf",
       "version_major": 2,
       "version_minor": 0
      },
      "text/plain": [
       "  0%|          | 0/271 [00:00<?, ?it/s]"
      ]
     },
     "metadata": {},
     "output_type": "display_data"
    }
   ],
   "source": [
    "for idx, features, _ in tqdm(loader):\n",
    "    output = agent.predict(features)\n",
    "    output = nn.Sigmoid()(output)\n",
    "    prediction = output > 0.6\n",
    "    prediction = prediction.to(torch.int64).cpu()\n",
    "    prediction = vector2prediction(prediction)\n",
    "    \n",
    "    df = pd.DataFrame(data={'ID' : idx, 'extent' : prediction})\n",
    "    df.set_index('ID', inplace=True)\n",
    "    \n",
    "    sub = pd.concat([sub, df])\n",
    "\n",
    "sub.extent *= 10"
   ]
  },
  {
   "cell_type": "code",
   "execution_count": 8,
   "id": "256ed162-f348-4be8-a67b-f48f74ee032c",
   "metadata": {},
   "outputs": [],
   "source": [
    "sub.to_csv('data/submission.csv', index='ID')"
   ]
  },
  {
   "cell_type": "markdown",
   "id": "56c23631-6aed-4d12-8d8f-50c5dcf1e188",
   "metadata": {},
   "source": [
    "## ZINDI-6 + ZINDI-7 / 8"
   ]
  },
  {
   "cell_type": "code",
   "execution_count": 24,
   "id": "24c6356c-af52-4d5b-a522-3c117f5cf60d",
   "metadata": {},
   "outputs": [
    {
     "name": "stdout",
     "output_type": "stream",
     "text": [
      "Weights are loaded from exp/ZINDI-6/BEST.PTH\n",
      "Weights are loaded from exp/ZINDI-7/BEST.PTH\n"
     ]
    }
   ],
   "source": [
    "net = timm.create_model(\"efficientnet_b0\", pretrained=True, num_classes=1)\n",
    "device = torch.device(\"cuda\" if torch.cuda.is_available() else \"cpu\")\n",
    "\n",
    "binary_agent = InferenceAgent(net, device)\n",
    "binary_agent.load_weights('exp/ZINDI-6/BEST.PTH')\n",
    "\n",
    "net = timm.create_model(\"efficientnet_b0\", pretrained=True, num_classes=9)\n",
    "device = torch.device(\"cuda\" if torch.cuda.is_available() else \"cpu\")\n",
    "\n",
    "agent = InferenceAgent(net, device)\n",
    "agent.load_weights('exp/ZINDI-7/BEST.PTH')"
   ]
  },
  {
   "cell_type": "code",
   "execution_count": 69,
   "id": "444ec1e1-c9e2-4039-936e-27edf5d6ce34",
   "metadata": {},
   "outputs": [
    {
     "name": "stdout",
     "output_type": "stream",
     "text": [
      "batch_size : 128\n"
     ]
    }
   ],
   "source": [
    "shape = (3, 512, 512)\n",
    "batch_size = estimate_maximum_batch_size(agent.model, device, shape)\n",
    "print('batch_size :', batch_size)\n",
    "\n",
    "root = 'data/test'\n",
    "split = pd.read_csv('data/splits/test.csv', index_col='ID')\n",
    "metadata = pd.read_csv('data/test_meta.csv', index_col='ID')\n",
    "\n",
    "dataset = BinaryDamageDataset(root, split, metadata)\n",
    "loader = DataLoader(dataset, batch_size=batch_size, num_workers=4)"
   ]
  },
  {
   "cell_type": "code",
   "execution_count": 11,
   "id": "9855a3ca-57c6-4d19-969c-71711963768c",
   "metadata": {},
   "outputs": [],
   "source": [
    "bin_split = pd.DataFrame(columns=['ID', 'class'])\n",
    "bin_split.set_index('ID', inplace=True)"
   ]
  },
  {
   "cell_type": "code",
   "execution_count": 12,
   "id": "b0ae4ab6-e77f-44cb-a9e1-f161d41552e7",
   "metadata": {},
   "outputs": [
    {
     "data": {
      "application/vnd.jupyter.widget-view+json": {
       "model_id": "0b2477191a2c4342a7f60ba75866ca4f",
       "version_major": 2,
       "version_minor": 0
      },
      "text/plain": [
       "  0%|          | 0/68 [00:00<?, ?it/s]"
      ]
     },
     "metadata": {},
     "output_type": "display_data"
    }
   ],
   "source": [
    "for idx, features, _ in tqdm(loader):\n",
    "    output = binary_agent.predict(features)\n",
    "    output = nn.Sigmoid()(output)\n",
    "    prediction = output > 0.3\n",
    "    prediction = prediction.to(torch.int64).cpu()\n",
    "    prediction = torch.squeeze(prediction, dim=1)\n",
    "    \n",
    "    df = pd.DataFrame(data={'ID' : idx, 'class' : prediction})\n",
    "    df.set_index('ID', inplace=True)\n",
    "    \n",
    "    bin_split = pd.concat([bin_split, df])"
   ]
  },
  {
   "cell_type": "code",
   "execution_count": 71,
   "id": "a3c117db-2e62-4117-9fca-36d9c8de2b2b",
   "metadata": {},
   "outputs": [],
   "source": [
    "dataset = OrdinalBinDamageDataset(root, split.loc[bin_split['class'] == 1], metadata)\n",
    "loader = DataLoader(dataset, batch_size=batch_size, num_workers=4)"
   ]
  },
  {
   "cell_type": "code",
   "execution_count": 72,
   "id": "1152a047-ac60-4b44-a9ac-e182977d5d32",
   "metadata": {},
   "outputs": [],
   "source": [
    "result = pd.DataFrame(columns=['ID', 'extent'])\n",
    "result.set_index('ID', inplace=True)"
   ]
  },
  {
   "cell_type": "code",
   "execution_count": 73,
   "id": "a5e80442-a4cf-447e-9be5-6f611e65de6e",
   "metadata": {},
   "outputs": [
    {
     "data": {
      "application/vnd.jupyter.widget-view+json": {
       "model_id": "0442d91867a14b2ebf562c2510c579d4",
       "version_major": 2,
       "version_minor": 0
      },
      "text/plain": [
       "  0%|          | 0/20 [00:00<?, ?it/s]"
      ]
     },
     "metadata": {},
     "output_type": "display_data"
    }
   ],
   "source": [
    "for idx, features, _ in tqdm(loader):\n",
    "    output = agent.predict(features)\n",
    "    output = nn.Sigmoid()(output)\n",
    "    prediction = output > 0.7\n",
    "    prediction = prediction.to(torch.int64).cpu()\n",
    "    prediction = vector2prediction(prediction)\n",
    "    prediction += 1\n",
    "    \n",
    "    df = pd.DataFrame(data={'ID' : idx, 'extent' : prediction})\n",
    "    df.set_index('ID', inplace=True)\n",
    "    \n",
    "    result = pd.concat([result, df])\n",
    "\n",
    "result.extent *= 10"
   ]
  },
  {
   "cell_type": "code",
   "execution_count": 74,
   "id": "18048382-e722-4da4-9221-72e14041c89f",
   "metadata": {},
   "outputs": [],
   "source": [
    "df = pd.DataFrame(data={'ID' : split.loc[bin_split['class'] == 0].index.values, 'extent' : 0}).set_index('ID')\n",
    "result = pd.concat([result, df])\n",
    "result.to_csv('data/submission.csv', index='ID')"
   ]
  },
  {
   "cell_type": "code",
   "execution_count": 100,
   "id": "2635fffb-7acd-4df0-8c97-ba9b85c9085d",
   "metadata": {},
   "outputs": [],
   "source": [
    "def get_costs_proportional(n_classes, distance):\n",
    "    indices = torch.arange(n_classes).to(torch.float32)\n",
    "    return distance(indices.unsqueeze(1), indices)"
   ]
  },
  {
   "cell_type": "code",
   "execution_count": 110,
   "id": "ef9b919b-2008-4a16-8ef8-c1b0d281e684",
   "metadata": {},
   "outputs": [
    {
     "data": {
      "text/plain": [
       "tensor([[0., 1., 2., 3., 4., 5., 6., 7., 8., 9.],\n",
       "        [1., 0., 1., 2., 3., 4., 5., 6., 7., 8.],\n",
       "        [2., 1., 0., 1., 2., 3., 4., 5., 6., 7.],\n",
       "        [3., 2., 1., 0., 1., 2., 3., 4., 5., 6.],\n",
       "        [4., 3., 2., 1., 0., 1., 2., 3., 4., 5.],\n",
       "        [5., 4., 3., 2., 1., 0., 1., 2., 3., 4.],\n",
       "        [6., 5., 4., 3., 2., 1., 0., 1., 2., 3.],\n",
       "        [7., 6., 5., 4., 3., 2., 1., 0., 1., 2.],\n",
       "        [8., 7., 6., 5., 4., 3., 2., 1., 0., 1.],\n",
       "        [9., 8., 7., 6., 5., 4., 3., 2., 1., 0.]])"
      ]
     },
     "execution_count": 110,
     "metadata": {},
     "output_type": "execute_result"
    }
   ],
   "source": [
    "dist = lambda x,y : torch.abs(x - y)\n",
    "n_classes = 10\n",
    "\n",
    "get_costs_proportional(n_classes, dist)"
   ]
  },
  {
   "cell_type": "code",
   "execution_count": 113,
   "id": "0e3ab202-6b21-44f7-8ea2-b3ffe8b538b4",
   "metadata": {},
   "outputs": [
    {
     "data": {
      "text/plain": [
       "'<function <lambda> at 0x155398901b40>'"
      ]
     },
     "execution_count": 113,
     "metadata": {},
     "output_type": "execute_result"
    }
   ],
   "source": [
    "str(dist)"
   ]
  },
  {
   "cell_type": "code",
   "execution_count": 116,
   "id": "3fbc1d02-96cf-4389-9046-fc528b7a0789",
   "metadata": {},
   "outputs": [
    {
     "data": {
      "text/plain": [
       "tensor([1, 0])"
      ]
     },
     "execution_count": 116,
     "metadata": {},
     "output_type": "execute_result"
    }
   ],
   "source": [
    "torch.cat([torch.tensor([1]), torch.tensor([0])])"
   ]
  },
  {
   "cell_type": "code",
   "execution_count": 119,
   "id": "7cd8b565-b2cc-4192-b522-b3ffc7a9b3b7",
   "metadata": {},
   "outputs": [
    {
     "data": {
      "text/plain": [
       "tensor([0, 1])"
      ]
     },
     "execution_count": 119,
     "metadata": {},
     "output_type": "execute_result"
    }
   ],
   "source": [
    "torch.tensor([torch.tensor(0), torch.tensor(1)])"
   ]
  },
  {
   "cell_type": "code",
   "execution_count": null,
   "id": "7e05a8dd-015d-49f1-8b52-740b6072d2fe",
   "metadata": {},
   "outputs": [],
   "source": []
  }
 ],
 "metadata": {
  "kernelspec": {
   "display_name": "Python 3 (ipykernel)",
   "language": "python",
   "name": "python3"
  },
  "language_info": {
   "codemirror_mode": {
    "name": "ipython",
    "version": 3
   },
   "file_extension": ".py",
   "mimetype": "text/x-python",
   "name": "python",
   "nbconvert_exporter": "python",
   "pygments_lexer": "ipython3",
   "version": "3.10.12"
  }
 },
 "nbformat": 4,
 "nbformat_minor": 5
}
